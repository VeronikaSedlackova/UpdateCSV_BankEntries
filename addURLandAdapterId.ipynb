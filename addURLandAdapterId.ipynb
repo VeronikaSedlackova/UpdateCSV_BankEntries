{
 "cells": [
  {
   "cell_type": "code",
   "execution_count": 1,
   "metadata": {},
   "outputs": [],
   "source": [
    "import re\n",
    "import csv"
   ]
  },
  {
   "cell_type": "code",
   "execution_count": 2,
   "metadata": {},
   "outputs": [],
   "source": [
    "def searchForSameBankName(row, listLines, writer):\n",
    "    sameLetter = \"\"\n",
    "    for rowInOld in listLines: \n",
    "        if row[1] == rowInOld[1]:\n",
    "            row[3] = rowInOld[3]\n",
    "            row[4] = rowInOld[4]\n",
    "            writer.writerow(row)\n",
    "            return \"true\"\n",
    "        elif row[1][0] == rowInOld[1][0]:\n",
    "            sameLetter = \"true\"\n",
    "        if sameLetter == \"true\" and row[1][0] != rowInOld[1][0]:\n",
    "            return \"false\"\n",
    "\n",
    "    return \"false\"\n"
   ]
  },
  {
   "cell_type": "code",
   "execution_count": 3,
   "metadata": {},
   "outputs": [],
   "source": [
    "# Sorts old file in ascending order\n",
    "\n",
    "oldFile = csv.reader(open('oldCSVFile.csv'), delimiter=',')\n",
    "sortedlist = sorted(oldFile, key=operator.itemgetter(1))\n",
    "\n",
    "with open(\"oldCSVFile_Sorted.csv\", \"w\") as oldFile:\n",
    "    fileWriter = csv.writer(oldFile, delimiter=',')\n",
    "    for row in sortedlist:\n",
    "        fileWriter.writerow(row)\n",
    "        \n",
    "    oldFile.close()"
   ]
  },
  {
   "cell_type": "code",
   "execution_count": 4,
   "metadata": {},
   "outputs": [],
   "source": [
    "with open('addDataTo.csv', \"r\", encoding=\"utf-8\") as file:\n",
    "    toBeAdded = csv.reader(file)\n",
    "       \n",
    "    # resulting file \n",
    "    resultFile = open('final_addDataTo.csv', 'w')\n",
    "    writer = csv.writer(resultFile)\n",
    "        \n",
    "    ## removes duplicate bank names (for perfomance reasons)\n",
    "    inFile = open('oldCSVFile_Sorted.csv','r')\n",
    "    readerInFile = csv.reader(inFile)\n",
    "        \n",
    "    listLines = []\n",
    "\n",
    "    for line in readerInFile:\n",
    "        if line[1] in str(listLines):\n",
    "            continue\n",
    "        else:\n",
    "            listLines += [line]    \n",
    "\n",
    "    inFile.close()\n",
    "    \n",
    "    ## compare bank names and add data to if they are the same\n",
    "    counterForEqualBanks = 0\n",
    "    counterForNotFound = 0\n",
    "    for row in toBeAdded:        \n",
    "        booleanForSuccess = searchForSameBankName(row, listLines, writer)\n",
    "\n",
    "        if booleanForSuccess == \"false\":\n",
    "            counterForNotFound = counterForNotFound + 1\n",
    "            writer.writerow(row)\n",
    "        else:\n",
    "            counterForEqualBanks = counterForEqualBanks + 1"
   ]
  }
 ],
 "metadata": {
  "kernelspec": {
   "display_name": "Python 3",
   "language": "python",
   "name": "python3"
  },
  "language_info": {
   "codemirror_mode": {
    "name": "ipython",
    "version": 3
   },
   "file_extension": ".py",
   "mimetype": "text/x-python",
   "name": "python",
   "nbconvert_exporter": "python",
   "pygments_lexer": "ipython3",
   "version": "3.7.7"
  }
 },
 "nbformat": 4,
 "nbformat_minor": 4
}
