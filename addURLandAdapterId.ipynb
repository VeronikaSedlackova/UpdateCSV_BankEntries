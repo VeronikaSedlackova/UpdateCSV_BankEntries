{
 "cells": [
  {
   "cell_type": "code",
   "execution_count": null,
   "metadata": {},
   "outputs": [],
   "source": [
    "import re\n",
    "import csv"
   ]
  },
  {
   "cell_type": "code",
   "execution_count": null,
   "metadata": {},
   "outputs": [],
   "source": [
    "def addIfSameBankName(row, listLines, writer):\n",
    "    sameLetter = \"\"\n",
    "    \n",
    "    for rowInOld in listLines:  \n",
    "        \n",
    "        # if bank name is equal, write to file\n",
    "        if row[1] == rowInOld[1]:\n",
    "            row[3] = rowInOld[3]       # URL\n",
    "            row[4] = rowInOld[4]       # AdapterID\n",
    "            writer.writerow(row)\n",
    "            return \"true\"\n",
    "        \n",
    "        # if bankcode and bic are equal, write to file\n",
    "        elif row[2] == rowInOld[2] and row[5] == rowInOld[5]:\n",
    "            row[0] = rowInOld[0]       # ID\n",
    "            row[3] = rowInOld[3]       # URL\n",
    "            row[4] = rowInOld[4]       # AdapterID\n",
    "            writer.writerow(row)\n",
    "            return \"true\"\n",
    "        \n",
    "        # if bankcode is equal, write to file\n",
    "        elif row[5] == rowInOld[5]:\n",
    "            row[3] = rowInOld[3]       # URL\n",
    "            row[4] = rowInOld[4]       # AdapterID\n",
    "            writer.writerow(row) \n",
    "            return \"true\"\n",
    "                \n",
    "        elif row[1][0] == rowInOld[1][0]:\n",
    "            sameLetter = \"true\"\n",
    "            \n",
    "        if sameLetter == \"true\" and row[1][0] != rowInOld[1][0]:     # stops running through whole file \n",
    "            return \"false\"\n",
    "        \n",
    "    return \"false\""
   ]
  },
  {
   "cell_type": "code",
   "execution_count": null,
   "metadata": {},
   "outputs": [],
   "source": [
    "# Sorts previous CSV file from GitLab in ascending order\n",
    "\n",
    "oldFile = csv.reader(open('aspsp-adapter-config.csv'), delimiter=',')\n",
    "sortedlist = sorted(oldFile, key=operator.itemgetter(1))\n",
    "\n",
    "with open(\"aspsp-adapter-config_Sorted.csv\", \"w\") as oldFile:\n",
    "    fileWriter = csv.writer(oldFile, delimiter=',')\n",
    "    for row in sortedlist:\n",
    "        fileWriter.writerow(row)\n",
    "        \n",
    "    oldFile.close()\n"
   ]
  },
  {
   "cell_type": "code",
   "execution_count": null,
   "metadata": {},
   "outputs": [],
   "source": [
    "with open('removedRedundancy.csv', \"r\", encoding=\"utf-8\") as file:\n",
    "    readCSV = csv.reader(file)\n",
    "       \n",
    "   # resulting file \n",
    "    addDataFromDict = open('addedURLandAdapterID.csv', 'w')\n",
    "    writer = csv.writer(addDataFromDict)\n",
    "            \n",
    "    # previous CSV file from GitLab (sorted)\n",
    "    inFile = open('aspsp-adapter-config_Sorted.csv','r')             \n",
    "    readerInFile = csv.reader(inFile)\n",
    "    \n",
    "    \n",
    "    ## filters individual names from previous file\n",
    "    listLinesForSameBankName = []\n",
    "    counter = 0\n",
    "\n",
    "    for line in readerInFile:\n",
    "        if line[1] in str(listLinesForSameBankName):\n",
    "            continue\n",
    "        else:\n",
    "            listLinesForSameBankName += [line]  \n",
    "            counter = counter + 1\n",
    "            \n",
    "    inFile.close()\n",
    "        \n",
    "        \n",
    "    ## compare bank names and add data if equal\n",
    "    counterForEqualBanks = 0\n",
    "    counterForNotFound = 0\n",
    "    for row in readCSV:  \n",
    "        booleanForSuccess = addIfSameBankName(row, listLinesForSameBankName, writer)\n",
    "        \n",
    "        if booleanForSuccess == \"false\":\n",
    "            writer.writerow(row)\n",
    "            counterForNotFound = counterForNotFound + 1\n",
    "        else:\n",
    "            counterForEqualBanks = counterForEqualBanks + 1\n",
    "    \n",
    "        \n",
    "    print(\"Data could not be added to\", counterForNotFound, \"row(s)\")\n",
    "    print(\"Add successfully: \", counterForEqualBanks, \"row(s)\")"
   ]
  }
 ],
 "metadata": {
  "kernelspec": {
   "display_name": "Python 3",
   "language": "python",
   "name": "python3"
  },
  "language_info": {
   "codemirror_mode": {
    "name": "ipython",
    "version": 3
   },
   "file_extension": ".py",
   "mimetype": "text/x-python",
   "name": "python",
   "nbconvert_exporter": "python",
   "pygments_lexer": "ipython3",
   "version": "3.7.7"
  }
 },
 "nbformat": 4,
 "nbformat_minor": 4
}
