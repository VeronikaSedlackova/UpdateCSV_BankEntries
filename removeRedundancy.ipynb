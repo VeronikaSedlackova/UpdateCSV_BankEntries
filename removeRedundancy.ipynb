{
 "cells": [
  {
   "cell_type": "code",
   "execution_count": 4,
   "metadata": {},
   "outputs": [],
   "source": [
    "import csv\n",
    "import re"
   ]
  },
  {
   "cell_type": "code",
   "execution_count": 5,
   "metadata": {},
   "outputs": [],
   "source": [
    "# counts number of rows\n",
    "with open('yourFile.csv', \"r\", encoding=\"utf-8\") as file:\n",
    "    readCSV = csv.reader(file)\n",
    "    lines = len(list(readCSV))\n",
    "    \n",
    "file.close()"
   ]
  },
  {
   "cell_type": "code",
   "execution_count": null,
   "metadata": {
    "scrolled": true
   },
   "outputs": [],
   "source": [
    "def saveSameBankName(equalBanks, rowBefore, row):\n",
    "    if not equalBanks:\n",
    "        equalBanks += [rowBefore]\n",
    "    equalBanks += [row]\n",
    "    return equalBanks\n",
    "\n",
    "def saveSameBICs(equalBanks, presentBIC):\n",
    "    # check for emtpy BIC (has to be at least one BIC!)\n",
    "    for line in equalBanks: \n",
    "        if line[2] != \"\":             \n",
    "            presentBIC += [line]\n",
    "    return presentBIC\n",
    "\n",
    "def leaveOutRedundantLine(equalBanks, presentBIC):\n",
    "    for line in equalBanks:\n",
    "        countingPrintinginFile = 0\n",
    "\n",
    "        # does not print redundant lines\n",
    "        for bicLine in presentBIC:\n",
    "            if countingPrintinginFile == 1:\n",
    "                print()\n",
    "            elif line[5] == bicLine[5] and line[2] != \"\":   # bankcode same, BIC not empty\n",
    "                countingPrintinginFile = 1\n",
    "                writer.writerow(line)\n",
    "            elif line[5] == bicLine[5] and line[2] == \"\":   # bankcode same, BIC empty\n",
    "                countingPrintinginFile = 1\n",
    "\n",
    "    \n",
    "     \n",
    "with open('testForPerformance.csv', \"r\", encoding=\"utf-8\") as file:\n",
    "    readCSV = csv.reader(file)\n",
    "    \n",
    "    noRedundancy = open('noRedundancy.csv', 'w')\n",
    "    writer = csv.writer(noRedundancy)\n",
    "    bankName = \"\"; bic = \"\"; bankCode = \"\"; rowBefore = \"\" \n",
    "    equalBanks = []\n",
    "    counter = 0\n",
    "    presentBIC = []\n",
    "    countingPrintinginFile = 0\n",
    "    \n",
    "    for row in readCSV:\n",
    "        counter = counter + 1\n",
    "\n",
    "        # same bank name\n",
    "        if bankName == row[1]:\n",
    "            equalBanks = saveSameBankName(equalBanks, rowBefore, row)\n",
    "        \n",
    "        else:\n",
    "            # looks in array of same banks for redundancy\n",
    "            if re.search(bankName, str(equalBanks)):    \n",
    "                presentBIC = saveSameBICs(equalBanks, presentBIC)\n",
    "                leaveOutRedundantLine(equalBanks, presentBIC)\n",
    "\n",
    "            # different bank names\n",
    "            else: \n",
    "                writer.writerow(rowBefore)\n",
    "\n",
    "            equalBanks = []    \n",
    "            presentBIC = []\n",
    "               \n",
    "        bankName = row[1]\n",
    "        bic = row[2]\n",
    "        bankCode = row[5]\n",
    "        rowBefore = row\n",
    "        \n",
    "        \n",
    "         # handle last row\n",
    "        if counter == lines:\n",
    "            if re.search(bankName, str(equalBanks)):    \n",
    "                presentBIC = saveSameBICs(equalBanks, presentBIC)\n",
    "                leaveOutRedundantLine(equalBanks, presentBIC)\n",
    "\n",
    "            # different bank names\n",
    "            else: \n",
    "                writer.writerow(rowBefore)\n",
    "\n",
    "            equalBanks = [] \n",
    "            presentBIC = []\n",
    "        \n",
    "    "
   ]
  }
 ],
 "metadata": {
  "kernelspec": {
   "display_name": "Python 3",
   "language": "python",
   "name": "python3"
  },
  "language_info": {
   "codemirror_mode": {
    "name": "ipython",
    "version": 3
   },
   "file_extension": ".py",
   "mimetype": "text/x-python",
   "name": "python",
   "nbconvert_exporter": "python",
   "pygments_lexer": "ipython3",
   "version": "3.7.7"
  }
 },
 "nbformat": 4,
 "nbformat_minor": 4
}
