{
 "cells": [
  {
   "cell_type": "code",
   "execution_count": 5,
   "metadata": {},
   "outputs": [],
   "source": [
    "import csv\n",
    "import re"
   ]
  },
  {
   "cell_type": "code",
   "execution_count": 72,
   "metadata": {},
   "outputs": [],
   "source": [
    "with open('yourFile.csv', \"r+\", encoding=\"utf-8\") as file:\n",
    "    readCSV = csv.reader(file)\n",
    "    bankName = \"\"; bic = \"\"; bankCode = \"\"; rowBefore = \"\" # redundant\n",
    "    equalBanks = []\n",
    "    counter = 0\n",
    "    \n",
    "    for row in readCSV:\n",
    "        print(\"first row: \", row[1]) \n",
    "        print(\"first bank name: \", bankName)\n",
    "        counter = counter + 1\n",
    "        print(counter)\n",
    "        \n",
    "        # same bank name\n",
    "        if bankName == row[1]:\n",
    "            if not equalBanks:\n",
    "                equalBanks += [rowBefore]\n",
    "            print(\"banks are equal\")\n",
    "            equalBanks += [row]\n",
    "\n",
    "        # different bank name\n",
    "        else:\n",
    "            # looks in array of same banks for redundancy\n",
    "            # unbedingt liste leeren am ende von redundancy loeschung\n",
    "            if re.search(bankName, str(equalBanks)):\n",
    "                print(\"test for further process\")\n",
    "                # check for same bankcode and emtpy BIC (has to be at least one bic!)\n",
    "                for line in equalBanks: \n",
    "                    for column in equalBanks:\n",
    "                        print()                     # TODO\n",
    "                    print(\"equalBanks: \", line)\n",
    "\n",
    "            # different bank names\n",
    "            else:\n",
    "                print(\"bank names different, go on\")\n",
    "        \n",
    "        print(\"array: \", equalBanks)\n",
    "        bankName = row[1]\n",
    "        bic = row[2]\n",
    "        bankCode = row[5]\n",
    "        rowBefore = row\n",
    "        print()"
   ]
  }
 ],
 "metadata": {
  "kernelspec": {
   "display_name": "Python 3",
   "language": "python",
   "name": "python3"
  },
  "language_info": {
   "codemirror_mode": {
    "name": "ipython",
    "version": 3
   },
   "file_extension": ".py",
   "mimetype": "text/x-python",
   "name": "python",
   "nbconvert_exporter": "python",
   "pygments_lexer": "ipython3",
   "version": "3.7.7"
  }
 },
 "nbformat": 4,
 "nbformat_minor": 4
}
